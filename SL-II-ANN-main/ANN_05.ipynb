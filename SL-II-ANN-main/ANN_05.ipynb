{
  "cells": [
    {
      "cell_type": "markdown",
      "id": "216debf3",
      "metadata": {
        "id": "216debf3"
      },
      "source": [
        "# Assignment 5"
      ]
    },
    {
      "cell_type": "markdown",
      "id": "ba8f5d6b",
      "metadata": {
        "id": "ba8f5d6b"
      },
      "source": [
        "## Problem Statement: <br>\n",
        "Write a python program to recognize the numbers 0, 1, 2, 39. A 5 * 3 matrix forms the numbers. For any valid point it is taken as 1 and invalid point it is taken as 0. The net has to be trained to recognize all the numbers and when the test data is given, the network has to recognize the particular numbers."
      ]
    },
    {
      "cell_type": "markdown",
      "id": "38db2742",
      "metadata": {
        "id": "38db2742"
      },
      "source": [
        "### Initialisation Of Libraries"
      ]
    },
    {
      "cell_type": "code",
      "execution_count": null,
      "id": "95a2873c",
      "metadata": {
        "id": "95a2873c"
      },
      "outputs": [],
      "source": [
        "import numpy as np\n",
        "import tensorflow as tf\n",
        "\n",
        "\n",
        "\n",
        "training_data = {\n",
        "    0: [[1, 1, 1], [1, 0, 1], [1, 0, 1], [1, 0, 1], [1, 1, 1]],\n",
        "    1: [[0, 1, 0], [0, 1, 0], [0, 1, 0], [0, 1, 0], [0, 1, 0]],\n",
        "    2: [[1, 1, 1], [0, 0, 1], [1, 1, 1], [1, 0, 0], [1, 1, 1]],\n",
        "    3: [[1, 1, 1], [0, 0, 1], [1, 1, 1], [0, 0, 1], [1, 1, 1]],\n",
        "    4: [[1, 0, 1], [1, 0, 1], [1, 1, 1], [0, 0, 1], [0, 0, 1]],\n",
        "    5: [[1, 1, 1], [1, 0, 0], [1, 1, 1], [0, 0, 1], [1, 1, 1]],\n",
        "    6: [[1, 0, 0], [1, 0, 0], [1, 1, 1], [1, 0, 1], [1, 1, 1]],\n",
        "    7: [[1, 1, 1], [0, 0, 1], [0, 1, 0], [1, 0, 0], [1, 0, 0]],\n",
        "    8: [[1, 1, 1], [1, 0, 1], [1, 1, 1], [1, 0, 1], [1, 1, 1]],\n",
        "    9: [[1, 1, 1], [1, 0, 1], [1, 1, 1], [0, 0, 1], [0, 0, 1]],\n",
        "}\n",
        "\n",
        "\n",
        "labels = np.eye(10)  # One-hot encoding for numbers 0 to 9\n",
        "\n",
        "\n",
        "\n",
        "X_train = np.array([np.array(num).flatten() for num in training_data.values()])\n",
        "y_train = np.array([labels[num] for num in training_data.keys()])\n",
        "\n",
        "\n",
        "\n",
        "\n",
        "\n",
        "model = tf.keras.Sequential([\n",
        "    tf.keras.layers.Dense(128, activation='relu', input_shape=(15,)),\n",
        "    tf.keras.layers.Dense(10, activation='softmax')\n",
        "])\n",
        "\n",
        "\n",
        "\n",
        "model.compile(optimizer='adam', loss='categorical_crossentropy', metrics=['accuracy'])\n",
        "\n",
        "\n",
        "\n",
        "\n",
        "model.fit(X_train, y_train, epochs=50)\n",
        "\n",
        "test_data = [[1, 1, 1], [0, 0, 1], [1, 1, 1], [1, 0, 0], [1, 1, 1]]  # Example test data for number 2\n",
        "X_test = np.array([np.array(test_data).flatten()])\n",
        "predictions = model.predict(X_test)\n",
        "recognized_number = np.argmax(predictions)\n",
        "\n",
        "print(\"Recognized number:\", recognized_number)"
      ]
    },
    {
      "cell_type": "markdown",
      "id": "6ff4a2d7",
      "metadata": {
        "id": "6ff4a2d7"
      },
      "source": [
        "### Define training data"
      ]
    },
    {
      "cell_type": "code",
      "execution_count": null,
      "id": "40625fdf",
      "metadata": {
        "id": "40625fdf"
      },
      "outputs": [],
      "source": []
    },
    {
      "cell_type": "markdown",
      "id": "50f04d9f",
      "metadata": {
        "id": "50f04d9f"
      },
      "source": [
        "### Define labels for training data"
      ]
    },
    {
      "cell_type": "code",
      "execution_count": null,
      "id": "e63c276e",
      "metadata": {
        "id": "e63c276e"
      },
      "outputs": [],
      "source": []
    },
    {
      "cell_type": "markdown",
      "id": "dacfe168",
      "metadata": {
        "id": "dacfe168"
      },
      "source": [
        "### Convert training data to numpy arrays"
      ]
    },
    {
      "cell_type": "code",
      "execution_count": null,
      "id": "54d5a887",
      "metadata": {
        "id": "54d5a887"
      },
      "outputs": [],
      "source": []
    },
    {
      "cell_type": "markdown",
      "id": "fb4fc466",
      "metadata": {
        "id": "fb4fc466"
      },
      "source": [
        "### Define neural network architecture"
      ]
    },
    {
      "cell_type": "code",
      "execution_count": null,
      "id": "51f1bcf5",
      "metadata": {
        "id": "51f1bcf5"
      },
      "outputs": [],
      "source": []
    },
    {
      "cell_type": "markdown",
      "id": "da9289d9",
      "metadata": {
        "id": "da9289d9"
      },
      "source": [
        "### Compilation of the model"
      ]
    },
    {
      "cell_type": "code",
      "execution_count": null,
      "id": "db6a252f",
      "metadata": {
        "id": "db6a252f"
      },
      "outputs": [],
      "source": []
    },
    {
      "cell_type": "markdown",
      "id": "44c8a45a",
      "metadata": {
        "id": "44c8a45a"
      },
      "source": [
        "### Train the model"
      ]
    },
    {
      "cell_type": "code",
      "execution_count": null,
      "id": "694a2ef8",
      "metadata": {
        "colab": {
          "base_uri": "https://localhost:8080/"
        },
        "id": "694a2ef8",
        "outputId": "a582753a-1944-4c9c-8020-3e5118bb8c56"
      },
      "outputs": [
        {
          "name": "stdout",
          "output_type": "stream",
          "text": [
            "Epoch 1/50\n",
            "1/1 [==============================] - 3s 3s/step - loss: 2.2476 - accuracy: 0.1000\n",
            "Epoch 2/50\n",
            "1/1 [==============================] - 0s 25ms/step - loss: 2.2202 - accuracy: 0.1000\n",
            "Epoch 3/50\n",
            "1/1 [==============================] - 0s 31ms/step - loss: 2.1943 - accuracy: 0.1000\n",
            "Epoch 4/50\n",
            "1/1 [==============================] - 0s 18ms/step - loss: 2.1690 - accuracy: 0.2000\n",
            "Epoch 5/50\n",
            "1/1 [==============================] - 0s 25ms/step - loss: 2.1444 - accuracy: 0.3000\n",
            "Epoch 6/50\n",
            "1/1 [==============================] - 0s 33ms/step - loss: 2.1205 - accuracy: 0.4000\n",
            "Epoch 7/50\n",
            "1/1 [==============================] - 0s 39ms/step - loss: 2.0975 - accuracy: 0.5000\n",
            "Epoch 8/50\n",
            "1/1 [==============================] - 0s 25ms/step - loss: 2.0750 - accuracy: 0.5000\n",
            "Epoch 9/50\n",
            "1/1 [==============================] - 0s 24ms/step - loss: 2.0531 - accuracy: 0.5000\n",
            "Epoch 10/50\n",
            "1/1 [==============================] - 0s 28ms/step - loss: 2.0315 - accuracy: 0.5000\n",
            "Epoch 11/50\n",
            "1/1 [==============================] - 0s 30ms/step - loss: 2.0103 - accuracy: 0.5000\n",
            "Epoch 12/50\n",
            "1/1 [==============================] - 0s 32ms/step - loss: 1.9893 - accuracy: 0.6000\n",
            "Epoch 13/50\n",
            "1/1 [==============================] - 0s 21ms/step - loss: 1.9686 - accuracy: 0.6000\n",
            "Epoch 14/50\n",
            "1/1 [==============================] - 0s 25ms/step - loss: 1.9483 - accuracy: 0.6000\n",
            "Epoch 15/50\n",
            "1/1 [==============================] - 0s 32ms/step - loss: 1.9282 - accuracy: 0.6000\n",
            "Epoch 16/50\n",
            "1/1 [==============================] - 0s 28ms/step - loss: 1.9083 - accuracy: 0.7000\n",
            "Epoch 17/50\n",
            "1/1 [==============================] - 0s 20ms/step - loss: 1.8887 - accuracy: 0.7000\n",
            "Epoch 18/50\n",
            "1/1 [==============================] - 0s 22ms/step - loss: 1.8693 - accuracy: 0.7000\n",
            "Epoch 19/50\n",
            "1/1 [==============================] - 0s 21ms/step - loss: 1.8498 - accuracy: 0.9000\n",
            "Epoch 20/50\n",
            "1/1 [==============================] - 0s 28ms/step - loss: 1.8305 - accuracy: 0.9000\n",
            "Epoch 21/50\n",
            "1/1 [==============================] - 0s 15ms/step - loss: 1.8111 - accuracy: 0.9000\n",
            "Epoch 22/50\n",
            "1/1 [==============================] - 0s 17ms/step - loss: 1.7918 - accuracy: 0.9000\n",
            "Epoch 23/50\n",
            "1/1 [==============================] - 0s 42ms/step - loss: 1.7731 - accuracy: 0.9000\n",
            "Epoch 24/50\n",
            "1/1 [==============================] - 0s 19ms/step - loss: 1.7544 - accuracy: 0.9000\n",
            "Epoch 25/50\n",
            "1/1 [==============================] - 0s 19ms/step - loss: 1.7358 - accuracy: 0.9000\n",
            "Epoch 26/50\n",
            "1/1 [==============================] - 0s 20ms/step - loss: 1.7172 - accuracy: 0.9000\n",
            "Epoch 27/50\n",
            "1/1 [==============================] - 0s 19ms/step - loss: 1.6986 - accuracy: 1.0000\n",
            "Epoch 28/50\n",
            "1/1 [==============================] - 0s 19ms/step - loss: 1.6800 - accuracy: 1.0000\n",
            "Epoch 29/50\n",
            "1/1 [==============================] - 0s 18ms/step - loss: 1.6614 - accuracy: 1.0000\n",
            "Epoch 30/50\n",
            "1/1 [==============================] - 0s 19ms/step - loss: 1.6427 - accuracy: 1.0000\n",
            "Epoch 31/50\n",
            "1/1 [==============================] - 0s 23ms/step - loss: 1.6239 - accuracy: 1.0000\n",
            "Epoch 32/50\n",
            "1/1 [==============================] - 0s 21ms/step - loss: 1.6051 - accuracy: 1.0000\n",
            "Epoch 33/50\n",
            "1/1 [==============================] - 0s 23ms/step - loss: 1.5863 - accuracy: 1.0000\n",
            "Epoch 34/50\n",
            "1/1 [==============================] - 0s 22ms/step - loss: 1.5675 - accuracy: 1.0000\n",
            "Epoch 35/50\n",
            "1/1 [==============================] - 0s 28ms/step - loss: 1.5488 - accuracy: 1.0000\n",
            "Epoch 36/50\n",
            "1/1 [==============================] - 0s 21ms/step - loss: 1.5300 - accuracy: 1.0000\n",
            "Epoch 37/50\n",
            "1/1 [==============================] - 0s 27ms/step - loss: 1.5113 - accuracy: 1.0000\n",
            "Epoch 38/50\n",
            "1/1 [==============================] - 0s 44ms/step - loss: 1.4925 - accuracy: 1.0000\n",
            "Epoch 39/50\n",
            "1/1 [==============================] - 0s 23ms/step - loss: 1.4744 - accuracy: 1.0000\n",
            "Epoch 40/50\n",
            "1/1 [==============================] - 0s 21ms/step - loss: 1.4562 - accuracy: 1.0000\n",
            "Epoch 41/50\n",
            "1/1 [==============================] - 0s 25ms/step - loss: 1.4378 - accuracy: 1.0000\n",
            "Epoch 42/50\n",
            "1/1 [==============================] - 0s 25ms/step - loss: 1.4192 - accuracy: 1.0000\n",
            "Epoch 43/50\n",
            "1/1 [==============================] - 0s 23ms/step - loss: 1.4008 - accuracy: 1.0000\n",
            "Epoch 44/50\n",
            "1/1 [==============================] - 0s 34ms/step - loss: 1.3825 - accuracy: 1.0000\n",
            "Epoch 45/50\n",
            "1/1 [==============================] - 0s 17ms/step - loss: 1.3644 - accuracy: 1.0000\n",
            "Epoch 46/50\n",
            "1/1 [==============================] - 0s 21ms/step - loss: 1.3464 - accuracy: 1.0000\n",
            "Epoch 47/50\n",
            "1/1 [==============================] - 0s 34ms/step - loss: 1.3284 - accuracy: 1.0000\n",
            "Epoch 48/50\n",
            "1/1 [==============================] - 0s 25ms/step - loss: 1.3104 - accuracy: 1.0000\n",
            "Epoch 49/50\n",
            "1/1 [==============================] - 0s 35ms/step - loss: 1.2924 - accuracy: 1.0000\n",
            "Epoch 50/50\n",
            "1/1 [==============================] - 0s 28ms/step - loss: 1.2747 - accuracy: 1.0000\n"
          ]
        },
        {
          "data": {
            "text/plain": [
              "<keras.src.callbacks.History at 0x7bec20663b50>"
            ]
          },
          "execution_count": 7,
          "metadata": {},
          "output_type": "execute_result"
        }
      ],
      "source": []
    },
    {
      "cell_type": "markdown",
      "id": "2b454483",
      "metadata": {
        "id": "2b454483"
      },
      "source": [
        "### Test the model"
      ]
    },
    {
      "cell_type": "code",
      "execution_count": null,
      "id": "17a1f7a3",
      "metadata": {
        "colab": {
          "base_uri": "https://localhost:8080/"
        },
        "id": "17a1f7a3",
        "outputId": "d26b8b24-c6a1-4e98-c9d2-f09b58f46887"
      },
      "outputs": [
        {
          "name": "stdout",
          "output_type": "stream",
          "text": [
            "1/1 [==============================] - 0s 206ms/step\n"
          ]
        }
      ],
      "source": []
    },
    {
      "cell_type": "code",
      "execution_count": null,
      "id": "acf31363",
      "metadata": {
        "colab": {
          "base_uri": "https://localhost:8080/"
        },
        "id": "acf31363",
        "outputId": "16bcaca3-0bb0-40c2-d339-29c73046ee31"
      },
      "outputs": [
        {
          "name": "stdout",
          "output_type": "stream",
          "text": [
            "Recognized number: 2\n"
          ]
        }
      ],
      "source": []
    }
  ],
  "metadata": {
    "colab": {
      "provenance": []
    },
    "kernelspec": {
      "display_name": "Python 3 (ipykernel)",
      "language": "python",
      "name": "python3"
    },
    "language_info": {
      "codemirror_mode": {
        "name": "ipython",
        "version": 3
      },
      "file_extension": ".py",
      "mimetype": "text/x-python",
      "name": "python",
      "nbconvert_exporter": "python",
      "pygments_lexer": "ipython3",
      "version": "3.9.12"
    }
  },
  "nbformat": 4,
  "nbformat_minor": 5
}
