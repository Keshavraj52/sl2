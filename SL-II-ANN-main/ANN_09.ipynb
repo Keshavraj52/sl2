{
  "cells": [
    {
      "cell_type": "markdown",
      "id": "4d934305",
      "metadata": {
        "id": "4d934305"
      },
      "source": [
        "# Assignment 9"
      ]
    },
    {
      "cell_type": "markdown",
      "id": "c5b3df47",
      "metadata": {
        "id": "c5b3df47"
      },
      "source": [
        "## Problem Statement:<br>\n",
        "Write a python program to design a Hopfield Network which stores 4 vectors."
      ]
    },
    {
      "cell_type": "markdown",
      "id": "038efb2e",
      "metadata": {
        "id": "038efb2e"
      },
      "source": [
        "### Importing and Intialisation of Libraries"
      ]
    },
    {
      "cell_type": "code",
      "execution_count": 1,
      "id": "88187ee9",
      "metadata": {
        "id": "88187ee9"
      },
      "outputs": [],
      "source": [
        "import numpy as np"
      ]
    },
    {
      "cell_type": "markdown",
      "id": "b0922c1f",
      "metadata": {
        "id": "b0922c1f"
      },
      "source": [
        "### Initialisation of Hopefield Network Class"
      ]
    },
    {
      "cell_type": "code",
      "execution_count": 2,
      "id": "3edbe05e",
      "metadata": {
        "id": "3edbe05e"
      },
      "outputs": [],
      "source": [
        "class HopfieldNetwork:\n",
        "    def __init__(self, num_neurons):\n",
        "        self.num_neurons = num_neurons\n",
        "        self.weights = np.zeros((num_neurons, num_neurons))\n",
        "\n",
        "    def train(self, patterns):\n",
        "        for pattern in patterns:\n",
        "            pattern = pattern.reshape((1, self.num_neurons))\n",
        "            weight_update = np.dot(pattern.T, pattern)\n",
        "            np.fill_diagonal(weight_update, 0)  # Set diagonal elements to 0 to prevent self-connections\n",
        "            self.weights += weight_update\n",
        "\n",
        "    def recall(self, pattern, max_iterations=100):\n",
        "        pattern = pattern.reshape((1, self.num_neurons))\n",
        "        iterations = 0\n",
        "\n",
        "        while iterations < max_iterations:\n",
        "            output = np.sign(np.dot(pattern, self.weights))\n",
        "            if np.array_equal(pattern, output):\n",
        "                break\n",
        "            pattern = output\n",
        "            iterations += 1\n",
        "\n",
        "        return pattern"
      ]
    },
    {
      "cell_type": "markdown",
      "id": "70053671",
      "metadata": {
        "id": "70053671"
      },
      "source": [
        "### Initialising Pattern Array"
      ]
    },
    {
      "cell_type": "code",
      "execution_count": 3,
      "id": "d7e05b28",
      "metadata": {
        "id": "d7e05b28"
      },
      "outputs": [],
      "source": [
        "patterns = np.array([\n",
        "    [-1, 1, 1, 1],\n",
        "    [1, -1, 1, -1],\n",
        "    [-1, -1, 1, 1],\n",
        "    [-1, 1, -1, -1]\n",
        "])"
      ]
    },
    {
      "cell_type": "code",
      "execution_count": 4,
      "id": "2a6d5b66",
      "metadata": {
        "id": "2a6d5b66"
      },
      "outputs": [],
      "source": [
        "hopfield = HopfieldNetwork(num_neurons=4)\n",
        "hopfield.train(patterns)"
      ]
    },
    {
      "cell_type": "markdown",
      "id": "fc1bc86b",
      "metadata": {
        "id": "fc1bc86b"
      },
      "source": [
        "### Testing Patternt Array"
      ]
    },
    {
      "cell_type": "code",
      "execution_count": 5,
      "id": "fef9a62f",
      "metadata": {
        "id": "fef9a62f"
      },
      "outputs": [],
      "source": [
        "test_patterns = np.array([\n",
        "    [-1, 1, 1, 1],\n",
        "    [1, 1, -1, -1],\n",
        "    [1, -1, -1, -1]\n",
        "])"
      ]
    },
    {
      "cell_type": "code",
      "execution_count": 6,
      "id": "06f9dad1",
      "metadata": {
        "colab": {
          "base_uri": "https://localhost:8080/"
        },
        "id": "06f9dad1",
        "outputId": "d1567cd5-ec17-44c9-8351-a393e500c249"
      },
      "outputs": [
        {
          "output_type": "stream",
          "name": "stdout",
          "text": [
            "Stored Patterns:\n",
            "Pattern 1: [-1  1  1  1]\n",
            "Pattern 2: [ 1 -1  1 -1]\n",
            "Pattern 3: [-1 -1  1  1]\n",
            "Pattern 4: [-1  1 -1 -1]\n"
          ]
        }
      ],
      "source": [
        "print(\"Stored Patterns:\")\n",
        "for i, pattern in enumerate(patterns):\n",
        "    print(f\"Pattern {i + 1}: {pattern}\")"
      ]
    },
    {
      "cell_type": "code",
      "execution_count": 7,
      "id": "4c947522",
      "metadata": {
        "colab": {
          "base_uri": "https://localhost:8080/"
        },
        "id": "4c947522",
        "outputId": "09298195-2c70-45b5-be98-439919f6ab52"
      },
      "outputs": [
        {
          "output_type": "stream",
          "name": "stdout",
          "text": [
            "\n",
            "Recalled Patterns:\n",
            "Input Pattern: [-1  1  1  1], Recalled Pattern: [-1.  1.  1.  1.]\n",
            "Input Pattern: [ 1  1 -1 -1], Recalled Pattern: [ 1.  1. -1. -1.]\n",
            "Input Pattern: [ 1 -1 -1 -1], Recalled Pattern: [ 1. -1. -1. -1.]\n"
          ]
        }
      ],
      "source": [
        "print(\"\\nRecalled Patterns:\")\n",
        "for pattern in test_patterns:\n",
        "    recalled_pattern = hopfield.recall(pattern)\n",
        "    print(f\"Input Pattern: {pattern}, Recalled Pattern: {recalled_pattern.flatten()}\")"
      ]
    }
  ],
  "metadata": {
    "kernelspec": {
      "display_name": "Python 3 (ipykernel)",
      "language": "python",
      "name": "python3"
    },
    "language_info": {
      "codemirror_mode": {
        "name": "ipython",
        "version": 3
      },
      "file_extension": ".py",
      "mimetype": "text/x-python",
      "name": "python",
      "nbconvert_exporter": "python",
      "pygments_lexer": "ipython3",
      "version": "3.9.12"
    },
    "colab": {
      "provenance": []
    }
  },
  "nbformat": 4,
  "nbformat_minor": 5
}