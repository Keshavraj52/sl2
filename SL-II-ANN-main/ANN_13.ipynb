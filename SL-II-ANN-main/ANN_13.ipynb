{
  "cells": [
    {
      "cell_type": "markdown",
      "id": "4d934305",
      "metadata": {
        "id": "4d934305"
      },
      "source": [
        "# Assignment 13"
      ]
    },
    {
      "cell_type": "markdown",
      "id": "c5b3df47",
      "metadata": {
        "id": "c5b3df47"
      },
      "source": [
        "## Problem Statement:<br>\n",
        "MNIST Handwritten Character Detection using PyTorch, Keras and Tensorflow."
      ]
    },
    {
      "cell_type": "markdown",
      "id": "038efb2e",
      "metadata": {
        "id": "038efb2e"
      },
      "source": [
        "### Importing and Intialisation of Libraries"
      ]
    },
    {
      "cell_type": "code",
      "execution_count": 1,
      "id": "88187ee9",
      "metadata": {
        "colab": {
          "base_uri": "https://localhost:8080/"
        },
        "id": "88187ee9",
        "outputId": "efc6fef8-a973-4828-e980-ec236393834a"
      },
      "outputs": [
        {
          "output_type": "stream",
          "name": "stdout",
          "text": [
            "Downloading data from https://storage.googleapis.com/tensorflow/tf-keras-datasets/mnist.npz\n",
            "11490434/11490434 [==============================] - 0s 0us/step\n",
            "Epoch 1/5\n",
            "1688/1688 [==============================] - 37s 21ms/step - loss: 0.1764 - accuracy: 0.9479 - val_loss: 0.0768 - val_accuracy: 0.9802\n",
            "Epoch 2/5\n",
            "1688/1688 [==============================] - 27s 16ms/step - loss: 0.0635 - accuracy: 0.9812 - val_loss: 0.0559 - val_accuracy: 0.9855\n",
            "Epoch 3/5\n",
            "1688/1688 [==============================] - 28s 16ms/step - loss: 0.0422 - accuracy: 0.9866 - val_loss: 0.0588 - val_accuracy: 0.9840\n",
            "Epoch 4/5\n",
            "1688/1688 [==============================] - 27s 16ms/step - loss: 0.0312 - accuracy: 0.9902 - val_loss: 0.0505 - val_accuracy: 0.9857\n",
            "Epoch 5/5\n",
            "1688/1688 [==============================] - 27s 16ms/step - loss: 0.0217 - accuracy: 0.9929 - val_loss: 0.0515 - val_accuracy: 0.9877\n",
            "313/313 [==============================] - 2s 5ms/step - loss: 0.0424 - accuracy: 0.9874\n",
            "\n",
            "Test accuracy: 0.9873999953269958\n",
            "313/313 [==============================] - 2s 5ms/step\n",
            "Image 1: Predicted digit = 7, True label = 7\n",
            "Image 2: Predicted digit = 2, True label = 2\n",
            "Image 3: Predicted digit = 1, True label = 1\n",
            "Image 4: Predicted digit = 0, True label = 0\n",
            "Image 5: Predicted digit = 4, True label = 4\n"
          ]
        }
      ],
      "source": [
        "import numpy as np\n",
        "import tensorflow as tf\n",
        "\n",
        "# Load the MNIST dataset\n",
        "(train_images, train_labels), (test_images, test_labels) = tf.keras.datasets.mnist.load_data()\n",
        "\n",
        "# Preprocess the data\n",
        "train_images = train_images / 255.0\n",
        "test_images = test_images / 255.0\n",
        "\n",
        "# Add a channel dimension to the images (for grayscale images)\n",
        "train_images = train_images.reshape(-1, 28, 28, 1)\n",
        "test_images = test_images.reshape(-1, 28, 28, 1)\n",
        "\n",
        "# Convert labels to one-hot encoding\n",
        "train_labels = tf.keras.utils.to_categorical(train_labels, num_classes=10)\n",
        "test_labels = tf.keras.utils.to_categorical(test_labels, num_classes=10)\n",
        "\n",
        "# Define the CNN model\n",
        "model = tf.keras.Sequential([\n",
        "    tf.keras.layers.Input(shape=(28, 28, 1)),\n",
        "    tf.keras.layers.Conv2D(32, (3, 3), activation='relu'),\n",
        "    tf.keras.layers.MaxPooling2D((2, 2)),\n",
        "    tf.keras.layers.Flatten(),\n",
        "    tf.keras.layers.Dense(64, activation='relu'),\n",
        "    tf.keras.layers.Dense(10, activation='softmax')\n",
        "])\n",
        "\n",
        "# Compile the model\n",
        "model.compile(optimizer='adam',\n",
        "              loss='categorical_crossentropy',\n",
        "              metrics=['accuracy'])\n",
        "\n",
        "# Train the model\n",
        "model.fit(train_images, train_labels, epochs=5, validation_split=0.1)\n",
        "\n",
        "# Evaluate the model on the test dataset\n",
        "test_loss, test_acc = model.evaluate(test_images, test_labels)\n",
        "print(\"\\nTest accuracy:\", test_acc)\n",
        "\n",
        "# Make a prediction\n",
        "predictions = model.predict(test_images)\n",
        "\n",
        "# Print the first 5 predictions\n",
        "for i in range(5):\n",
        "    print(f\"Image {i+1}: Predicted digit = {np.argmax(predictions[i])}, True label = {np.argmax(test_labels[i])}\")\n"
      ]
    }
  ],
  "metadata": {
    "kernelspec": {
      "display_name": "Python 3 (ipykernel)",
      "language": "python",
      "name": "python3"
    },
    "language_info": {
      "codemirror_mode": {
        "name": "ipython",
        "version": 3
      },
      "file_extension": ".py",
      "mimetype": "text/x-python",
      "name": "python",
      "nbconvert_exporter": "python",
      "pygments_lexer": "ipython3",
      "version": "3.9.12"
    },
    "colab": {
      "provenance": []
    }
  },
  "nbformat": 4,
  "nbformat_minor": 5
}