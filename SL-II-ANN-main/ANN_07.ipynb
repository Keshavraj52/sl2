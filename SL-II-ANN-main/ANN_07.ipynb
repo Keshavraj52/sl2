{
  "cells": [
    {
      "cell_type": "markdown",
      "id": "4d934305",
      "metadata": {
        "id": "4d934305"
      },
      "source": [
        "# Assignment 7"
      ]
    },
    {
      "cell_type": "markdown",
      "id": "c5b3df47",
      "metadata": {
        "id": "c5b3df47"
      },
      "source": [
        "## Problem Statement:<br>\n",
        "Write a python program to show Back Propagation Network for the XOR function with Binary Input and Output."
      ]
    },
    {
      "cell_type": "markdown",
      "id": "b0922c1f",
      "metadata": {
        "id": "b0922c1f"
      },
      "source": [
        "### Importing and Intialisation of Libraries"
      ]
    },
    {
      "cell_type": "code",
      "execution_count": 5,
      "id": "9d8098de",
      "metadata": {
        "id": "9d8098de"
      },
      "outputs": [],
      "source": [
        "import numpy as np"
      ]
    },
    {
      "cell_type": "markdown",
      "id": "69b33d71",
      "metadata": {
        "id": "69b33d71"
      },
      "source": [
        "### Define the sigmoid activation function"
      ]
    },
    {
      "cell_type": "code",
      "execution_count": 6,
      "id": "4caf07f0",
      "metadata": {
        "id": "4caf07f0"
      },
      "outputs": [],
      "source": [
        "def sigmoid(x):\n",
        "    return 1 / (1 + np.exp(-x))"
      ]
    },
    {
      "cell_type": "markdown",
      "id": "886c186b",
      "metadata": {
        "id": "886c186b"
      },
      "source": [
        "### Define the derivative of the sigmoid function"
      ]
    },
    {
      "cell_type": "code",
      "execution_count": 7,
      "id": "9ce4b011",
      "metadata": {
        "id": "9ce4b011"
      },
      "outputs": [],
      "source": [
        "def sigmoid_derivative(x):\n",
        "    return x * (1 - x)"
      ]
    },
    {
      "cell_type": "markdown",
      "id": "59fa5365",
      "metadata": {
        "id": "59fa5365"
      },
      "source": [
        "### Define the XOR dataset"
      ]
    },
    {
      "cell_type": "code",
      "execution_count": 8,
      "id": "0032f97b",
      "metadata": {
        "id": "0032f97b"
      },
      "outputs": [],
      "source": [
        "X = np.array([[0, 0],\n",
        "              [0, 1],\n",
        "              [1, 0],\n",
        "              [1, 1]])\n",
        "\n",
        "Y = np.array([[0],\n",
        "              [1],\n",
        "              [1],\n",
        "              [0]])"
      ]
    },
    {
      "cell_type": "markdown",
      "id": "c25047cb",
      "metadata": {
        "id": "c25047cb"
      },
      "source": [
        "### Initialize the weights and biases randomly"
      ]
    },
    {
      "cell_type": "code",
      "execution_count": 9,
      "id": "f358d606",
      "metadata": {
        "id": "f358d606"
      },
      "outputs": [],
      "source": [
        "np.random.seed(1)"
      ]
    },
    {
      "cell_type": "code",
      "execution_count": 10,
      "id": "2c641ef6",
      "metadata": {
        "id": "2c641ef6"
      },
      "outputs": [],
      "source": [
        "input_neurons = 2\n",
        "hidden_neurons = 2\n",
        "output_neurons = 1"
      ]
    },
    {
      "cell_type": "code",
      "execution_count": 11,
      "id": "09d8d108",
      "metadata": {
        "id": "09d8d108"
      },
      "outputs": [],
      "source": [
        "hidden_weights = np.random.rand(input_neurons, hidden_neurons)\n",
        "hidden_bias = np.random.rand(1, hidden_neurons)"
      ]
    },
    {
      "cell_type": "code",
      "execution_count": 12,
      "id": "e2139375",
      "metadata": {
        "id": "e2139375"
      },
      "outputs": [],
      "source": [
        "output_weights = np.random.rand(hidden_neurons, output_neurons)\n",
        "output_bias = np.random.rand(1, output_neurons)"
      ]
    },
    {
      "cell_type": "code",
      "execution_count": 13,
      "id": "a4e1e823",
      "metadata": {
        "id": "a4e1e823"
      },
      "outputs": [],
      "source": [
        "learning_rate = 0.1\n",
        "epochs = 10000"
      ]
    },
    {
      "cell_type": "markdown",
      "id": "58a8383a",
      "metadata": {
        "id": "58a8383a"
      },
      "source": [
        "### Training the neural network"
      ]
    },
    {
      "cell_type": "code",
      "execution_count": 14,
      "id": "205da1f3",
      "metadata": {
        "id": "205da1f3"
      },
      "outputs": [],
      "source": [
        "for epoch in range(epochs):\n",
        "    # Forward propagation\n",
        "    hidden_layer_input = np.dot(X, hidden_weights) + hidden_bias\n",
        "    hidden_layer_output = sigmoid(hidden_layer_input)\n",
        "\n",
        "    output_layer_input = np.dot(hidden_layer_output, output_weights) + output_bias\n",
        "    output_layer_output = sigmoid(output_layer_input)\n",
        "\n",
        "    # Backpropagation\n",
        "    error = Y - output_layer_output\n",
        "    d_output = error * sigmoid_derivative(output_layer_output)\n",
        "\n",
        "    error_hidden_layer = d_output.dot(output_weights.T)\n",
        "    d_hidden_layer = error_hidden_layer * sigmoid_derivative(hidden_layer_output)\n",
        "\n",
        "    # Update the weights and biases\n",
        "    output_weights += hidden_layer_output.T.dot(d_output) * learning_rate\n",
        "    output_bias += np.sum(d_output, axis=0, keepdims=True) * learning_rate\n",
        "\n",
        "    hidden_weights += X.T.dot(d_hidden_layer) * learning_rate\n",
        "    hidden_bias += np.sum(d_hidden_layer, axis=0, keepdims=True) * learning_rate"
      ]
    },
    {
      "cell_type": "markdown",
      "id": "69fed825",
      "metadata": {
        "id": "69fed825"
      },
      "source": [
        "### Testing the trained network"
      ]
    },
    {
      "cell_type": "code",
      "execution_count": 15,
      "id": "5a134c66",
      "metadata": {
        "id": "5a134c66"
      },
      "outputs": [],
      "source": [
        "hidden_layer_input = np.dot(X, hidden_weights) + hidden_bias\n",
        "hidden_layer_output = sigmoid(hidden_layer_input)"
      ]
    },
    {
      "cell_type": "code",
      "execution_count": 16,
      "id": "008a6cb3",
      "metadata": {
        "id": "008a6cb3"
      },
      "outputs": [],
      "source": [
        "output_layer_input = np.dot(hidden_layer_output, output_weights) + output_bias\n",
        "output_layer_output = np.round(sigmoid(output_layer_input)).astype(int)"
      ]
    },
    {
      "cell_type": "markdown",
      "id": "630c68c0",
      "metadata": {
        "id": "630c68c0"
      },
      "source": [
        "### Output in the requested format"
      ]
    },
    {
      "cell_type": "code",
      "execution_count": 17,
      "id": "d3767457",
      "metadata": {
        "colab": {
          "base_uri": "https://localhost:8080/"
        },
        "id": "d3767457",
        "outputId": "d3d35728-e27d-4db6-dd83-405ef417c96a"
      },
      "outputs": [
        {
          "output_type": "stream",
          "name": "stdout",
          "text": [
            "X1\tX2\tOutput\n",
            "0\t0\t0\n",
            "0\t1\t1\n",
            "1\t0\t1\n",
            "1\t1\t0\n"
          ]
        }
      ],
      "source": [
        "print(\"X1\\tX2\\tOutput\")\n",
        "for i in range(len(X)):\n",
        "    print(\"{}\\t{}\\t{}\".format(X[i][0], X[i][1], output_layer_output[i][0]))"
      ]
    }
  ],
  "metadata": {
    "kernelspec": {
      "display_name": "Python 3 (ipykernel)",
      "language": "python",
      "name": "python3"
    },
    "language_info": {
      "codemirror_mode": {
        "name": "ipython",
        "version": 3
      },
      "file_extension": ".py",
      "mimetype": "text/x-python",
      "name": "python",
      "nbconvert_exporter": "python",
      "pygments_lexer": "ipython3",
      "version": "3.9.12"
    },
    "colab": {
      "provenance": []
    }
  },
  "nbformat": 4,
  "nbformat_minor": 5
}