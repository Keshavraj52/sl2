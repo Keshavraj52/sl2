{
  "cells": [
    {
      "cell_type": "markdown",
      "id": "4d934305",
      "metadata": {
        "id": "4d934305"
      },
      "source": [
        "# Assignment 8"
      ]
    },
    {
      "cell_type": "markdown",
      "id": "c5b3df47",
      "metadata": {
        "id": "c5b3df47"
      },
      "source": [
        "## Problem Statement:<br>\n",
        "Write a python program to illustrate ART neural network."
      ]
    },
    {
      "cell_type": "markdown",
      "id": "b0922c1f",
      "metadata": {
        "id": "b0922c1f"
      },
      "source": [
        "### Importing and Intialisation of Libraries"
      ]
    },
    {
      "cell_type": "code",
      "execution_count": 1,
      "id": "cd2158cb",
      "metadata": {
        "id": "cd2158cb"
      },
      "outputs": [],
      "source": [
        "import numpy as np"
      ]
    },
    {
      "cell_type": "markdown",
      "id": "c2260551",
      "metadata": {
        "id": "c2260551"
      },
      "source": [
        "### Initialisation of Class"
      ]
    },
    {
      "cell_type": "code",
      "execution_count": 2,
      "id": "c20f22e2",
      "metadata": {
        "id": "c20f22e2"
      },
      "outputs": [],
      "source": [
        "class ART:\n",
        "    def __init__(self, num_input, num_output, vigilance_parameter):\n",
        "        self.num_input = num_input\n",
        "        self.num_output = num_output\n",
        "        self.vigilance_parameter = vigilance_parameter\n",
        "\n",
        "\n",
        "        # Initialize weights and reset states\n",
        "        self.weights = np.random.rand(num_output, num_input)\n",
        "        self.reset()\n",
        "\n",
        "    def reset(self):\n",
        "        self.activation_state = np.zeros(self.num_output)\n",
        "\n",
        "    def normalize(self, x):\n",
        "        return x / np.sum(x)\n",
        "\n",
        "    def calculate_similarity(self, input_pattern, output_pattern):\n",
        "        return np.dot(input_pattern, output_pattern) / np.sum(output_pattern)\n",
        "\n",
        "    def predict(self, input_pattern):\n",
        "        self.reset()\n",
        "        while True:\n",
        "            max_activation = np.max(self.activation_state)\n",
        "            if max_activation == 0:\n",
        "                break\n",
        "\n",
        "            winner_index = np.argmax(self.activation_state)\n",
        "            winner_pattern = self.weights[winner_index]\n",
        "            similarity = self.calculate_similarity(input_pattern, winner_pattern)\n",
        "\n",
        "            if similarity >= self.vigilance_parameter:\n",
        "                return winner_index\n",
        "\n",
        "            self.activation_state[winner_index] = 0\n",
        "\n",
        "    def train(self, input_patterns):\n",
        "        for input_pattern in input_patterns:\n",
        "            for i in range(self.num_output):\n",
        "                similarity = self.calculate_similarity(input_pattern, self.weights[i])\n",
        "                if similarity >= self.vigilance_parameter:\n",
        "                    self.activation_state[i] += 1\n",
        "                    self.weights[i] = self.normalize(self.weights[i] + input_pattern)\n",
        "                    break"
      ]
    },
    {
      "cell_type": "markdown",
      "id": "4bc4d7d8",
      "metadata": {
        "id": "4bc4d7d8"
      },
      "source": [
        "### Define input patterns"
      ]
    },
    {
      "cell_type": "code",
      "execution_count": 3,
      "id": "75382408",
      "metadata": {
        "id": "75382408"
      },
      "outputs": [],
      "source": [
        "input_patterns = np.array([\n",
        "    [1, 1, 0, 0],\n",
        "    [0, 0, 1, 1],\n",
        "    [1, 0, 1, 0]\n",
        "])"
      ]
    },
    {
      "cell_type": "markdown",
      "id": "085d21e5",
      "metadata": {
        "id": "085d21e5"
      },
      "source": [
        "### Initialize and train ART network"
      ]
    },
    {
      "cell_type": "code",
      "execution_count": 4,
      "id": "d4179581",
      "metadata": {
        "id": "d4179581"
      },
      "outputs": [],
      "source": [
        "art = ART(num_input=4, num_output=3, vigilance_parameter=0.5)\n",
        "art.train(input_patterns)"
      ]
    },
    {
      "cell_type": "markdown",
      "id": "9d44401f",
      "metadata": {
        "id": "9d44401f"
      },
      "source": [
        "### Test the trained network"
      ]
    },
    {
      "cell_type": "code",
      "execution_count": 5,
      "id": "bb6730eb",
      "metadata": {
        "id": "bb6730eb"
      },
      "outputs": [],
      "source": [
        "test_patterns = np.array([\n",
        "    [1, 1, 0, 0],  # Close to pattern 1\n",
        "    [0, 1, 0, 1],  # Close to pattern 3\n",
        "    [0, 0, 1, 1],  # Close to pattern 2\n",
        "    [1, 0, 1, 0]   # Close to pattern 1 and pattern 3\n",
        "])"
      ]
    },
    {
      "cell_type": "code",
      "execution_count": 6,
      "id": "7921dee8",
      "metadata": {
        "colab": {
          "base_uri": "https://localhost:8080/"
        },
        "id": "7921dee8",
        "outputId": "db56e124-5a70-4010-ec64-3a58da60f34b"
      },
      "outputs": [
        {
          "output_type": "stream",
          "name": "stdout",
          "text": [
            "Input pattern: [1 1 0 0], Winner index: None\n",
            "Input pattern: [0 1 0 1], Winner index: None\n",
            "Input pattern: [0 0 1 1], Winner index: None\n",
            "Input pattern: [1 0 1 0], Winner index: None\n"
          ]
        }
      ],
      "source": [
        "for pattern in test_patterns:\n",
        "    winner_index = art.predict(pattern)\n",
        "    print(f\"Input pattern: {pattern}, Winner index: {winner_index}\")"
      ]
    }
  ],
  "metadata": {
    "kernelspec": {
      "display_name": "Python 3 (ipykernel)",
      "language": "python",
      "name": "python3"
    },
    "language_info": {
      "codemirror_mode": {
        "name": "ipython",
        "version": 3
      },
      "file_extension": ".py",
      "mimetype": "text/x-python",
      "name": "python",
      "nbconvert_exporter": "python",
      "pygments_lexer": "ipython3",
      "version": "3.9.12"
    },
    "colab": {
      "provenance": []
    }
  },
  "nbformat": 4,
  "nbformat_minor": 5
}