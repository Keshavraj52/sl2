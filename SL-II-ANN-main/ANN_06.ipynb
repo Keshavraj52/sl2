{
  "cells": [
    {
      "cell_type": "markdown",
      "id": "99724c33",
      "metadata": {
        "id": "99724c33"
      },
      "source": [
        "# Assignment 6"
      ]
    },
    {
      "cell_type": "markdown",
      "id": "77dd7a8b",
      "metadata": {
        "id": "77dd7a8b"
      },
      "source": [
        "## Problem Statement:<br>\n",
        "Implement Artificial Neural Network training process in Python by using Forward Propagation, Back Propagation."
      ]
    },
    {
      "cell_type": "markdown",
      "id": "3b91a078",
      "metadata": {
        "id": "3b91a078"
      },
      "source": [
        "### Importing and Intialisation of Libraries"
      ]
    },
    {
      "cell_type": "code",
      "execution_count": 1,
      "id": "e72bf075",
      "metadata": {
        "id": "e72bf075"
      },
      "outputs": [],
      "source": [
        "import numpy as np"
      ]
    },
    {
      "cell_type": "markdown",
      "id": "d504ad2c",
      "metadata": {
        "id": "d504ad2c"
      },
      "source": [
        "### Neural Network Class Initialisation"
      ]
    },
    {
      "cell_type": "code",
      "execution_count": 2,
      "id": "1235491c",
      "metadata": {
        "id": "1235491c"
      },
      "outputs": [],
      "source": [
        "class NeuralNetwork:\n",
        "    def __init__(self, input_size, hidden_size, output_size):\n",
        "        self.weights_input_hidden = np.random.randn(input_size, hidden_size)\n",
        "        self.bias_hidden = np.zeros((1, hidden_size))\n",
        "        self.weights_hidden_output = np.random.randn(hidden_size, output_size)\n",
        "        self.bias_output = np.zeros((1, output_size))\n",
        "\n",
        "    def sigmoid(self, x):\n",
        "        return 1 / (1 + np.exp(-x))\n",
        "\n",
        "    def sigmoid_derivative(self, x):\n",
        "        return x * (1 - x)\n",
        "\n",
        "    def forward_propagation(self, inputs):\n",
        "        self.hidden_sum = np.dot(inputs, self.weights_input_hidden) + self.bias_hidden\n",
        "        self.hidden_activation = self.sigmoid(self.hidden_sum)\n",
        "        self.output_sum = np.dot(self.hidden_activation, self.weights_hidden_output) + self.bias_output\n",
        "        self.output_activation = self.sigmoid(self.output_sum)\n",
        "        return self.output_activation\n",
        "\n",
        "    def backward_propagation(self, inputs, targets, learning_rate):\n",
        "        output_error = targets - self.output_activation\n",
        "        output_delta = output_error * self.sigmoid_derivative(self.output_activation)\n",
        "\n",
        "        hidden_error = np.dot(output_delta, self.weights_hidden_output.T)\n",
        "        hidden_delta = hidden_error * self.sigmoid_derivative(self.hidden_activation)\n",
        "\n",
        "        self.weights_hidden_output += np.dot(self.hidden_activation.T, output_delta) * learning_rate\n",
        "        self.bias_output += np.sum(output_delta, axis=0, keepdims=True) * learning_rate\n",
        "        self.weights_input_hidden += np.dot(inputs.T, hidden_delta) * learning_rate\n",
        "        self.bias_hidden += np.sum(hidden_delta, axis=0, keepdims=True) * learning_rate\n",
        "\n",
        "    def train(self, inputs, targets, learning_rate, epochs):\n",
        "        for epoch in range(epochs):\n",
        "            outputs = self.forward_propagation(inputs)\n",
        "            self.backward_propagation(inputs, targets, learning_rate)\n",
        "            loss = np.mean(np.square(targets - outputs))\n",
        "            if epoch % 1000 == 0:\n",
        "                print(f\"Epoch {epoch}, Loss: {loss}\")"
      ]
    },
    {
      "cell_type": "markdown",
      "id": "ebb10c8e",
      "metadata": {
        "id": "ebb10c8e"
      },
      "source": [
        "### Initialising Neural Network Architecture"
      ]
    },
    {
      "cell_type": "code",
      "execution_count": 3,
      "id": "d956654e",
      "metadata": {
        "id": "d956654e"
      },
      "outputs": [],
      "source": [
        "input_size = 2\n",
        "hidden_size = 3\n",
        "output_size = 1"
      ]
    },
    {
      "cell_type": "markdown",
      "id": "c39d0716",
      "metadata": {
        "id": "c39d0716"
      },
      "source": [
        "### Creating An Instance Of a Neural Network"
      ]
    },
    {
      "cell_type": "code",
      "execution_count": 4,
      "id": "1153ccf1",
      "metadata": {
        "id": "1153ccf1"
      },
      "outputs": [],
      "source": [
        "nn = NeuralNetwork(input_size, hidden_size, output_size)"
      ]
    },
    {
      "cell_type": "markdown",
      "id": "02ad7d3d",
      "metadata": {
        "id": "02ad7d3d"
      },
      "source": [
        "### Sample Input And Output Data"
      ]
    },
    {
      "cell_type": "code",
      "execution_count": 5,
      "id": "89f9805e",
      "metadata": {
        "id": "89f9805e"
      },
      "outputs": [],
      "source": [
        "X = np.array([[0, 0],\n",
        "              [0, 1],\n",
        "              [1, 0],\n",
        "              [1, 1]])\n",
        "y = np.array([[0],\n",
        "              [1],\n",
        "              [1],\n",
        "              [0]])"
      ]
    },
    {
      "cell_type": "markdown",
      "id": "e7028ecb",
      "metadata": {
        "id": "e7028ecb"
      },
      "source": [
        "### Training The Neural Network"
      ]
    },
    {
      "cell_type": "code",
      "execution_count": 6,
      "id": "ff0eeeb1",
      "metadata": {
        "colab": {
          "base_uri": "https://localhost:8080/"
        },
        "id": "ff0eeeb1",
        "outputId": "19900e13-0298-445e-8b3f-c33ed9f2eff8"
      },
      "outputs": [
        {
          "output_type": "stream",
          "name": "stdout",
          "text": [
            "Epoch 0, Loss: 0.253288471978219\n",
            "Epoch 1000, Loss: 0.25000131902065914\n",
            "Epoch 2000, Loss: 0.24970357703940876\n",
            "Epoch 3000, Loss: 0.24867133489548526\n",
            "Epoch 4000, Loss: 0.23808925847353068\n",
            "Epoch 5000, Loss: 0.13507459230196084\n",
            "Epoch 6000, Loss: 0.02584785374129268\n",
            "Epoch 7000, Loss: 0.010279701080445819\n",
            "Epoch 8000, Loss: 0.0059942578737965605\n",
            "Epoch 9000, Loss: 0.004129711907551458\n",
            "Epoch 10000, Loss: 0.00311382637749931\n",
            "Epoch 11000, Loss: 0.0024829008549258924\n",
            "Epoch 12000, Loss: 0.0020562045549887215\n",
            "Epoch 13000, Loss: 0.0017498661841706038\n"
          ]
        }
      ],
      "source": [
        "nn.train(X, y, learning_rate=0.1, epochs=13001)"
      ]
    },
    {
      "cell_type": "markdown",
      "id": "05b61c3a",
      "metadata": {
        "id": "05b61c3a"
      },
      "source": [
        "### Testing the Trained Model"
      ]
    },
    {
      "cell_type": "code",
      "execution_count": 7,
      "id": "9636b5c3",
      "metadata": {
        "id": "9636b5c3"
      },
      "outputs": [],
      "source": [
        "test_data = np.array([[0, 0], [0, 1], [1, 0], [1, 1]])"
      ]
    },
    {
      "cell_type": "markdown",
      "id": "2a5be0b0",
      "metadata": {
        "id": "2a5be0b0"
      },
      "source": [
        "### Predicting Test Data"
      ]
    },
    {
      "cell_type": "code",
      "execution_count": 8,
      "id": "7b4e983d",
      "metadata": {
        "colab": {
          "base_uri": "https://localhost:8080/"
        },
        "id": "7b4e983d",
        "outputId": "5920c9e8-6b87-42a2-804a-be0aa8eb7b30"
      },
      "outputs": [
        {
          "output_type": "stream",
          "name": "stdout",
          "text": [
            "\n",
            "Predictions after training:\n",
            "[[0.04231302]\n",
            " [0.96361424]\n",
            " [0.94930339]\n",
            " [0.03624848]]\n"
          ]
        }
      ],
      "source": [
        "predictions = nn.forward_propagation(test_data)\n",
        "print(\"\\nPredictions after training:\")\n",
        "print(predictions)"
      ]
    },
    {
      "cell_type": "markdown",
      "id": "57cd355e",
      "metadata": {
        "id": "57cd355e"
      },
      "source": []
    }
  ],
  "metadata": {
    "kernelspec": {
      "display_name": "Python 3 (ipykernel)",
      "language": "python",
      "name": "python3"
    },
    "language_info": {
      "codemirror_mode": {
        "name": "ipython",
        "version": 3
      },
      "file_extension": ".py",
      "mimetype": "text/x-python",
      "name": "python",
      "nbconvert_exporter": "python",
      "pygments_lexer": "ipython3",
      "version": "3.9.12"
    },
    "colab": {
      "provenance": []
    }
  },
  "nbformat": 4,
  "nbformat_minor": 5
}