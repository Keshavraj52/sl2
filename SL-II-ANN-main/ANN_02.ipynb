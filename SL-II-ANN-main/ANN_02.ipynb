{
  "cells": [
    {
      "cell_type": "markdown",
      "id": "21903c62",
      "metadata": {},
      "source": [
        "# Generate ANDNOT function using McCulloch-Pitts neural net by a python program"
      ]
    },
    {
      "cell_type": "code",
      "execution_count": 1,
      "id": "2c8db119-f32e-4841-97f5-e3e588e3a3af",
      "metadata": {
        "colab": {
          "base_uri": "https://localhost:8080/"
        },
        "id": "2c8db119-f32e-4841-97f5-e3e588e3a3af",
        "outputId": "b5bc7599-b578-42d9-e77c-5279fe5ac6eb"
      },
      "outputs": [
        {
          "name": "stdout",
          "output_type": "stream",
          "text": [
            "x1   x2   w1   w2   t    S   Output\n",
            "0    0    1    -1    1    0    1\n",
            "0    1    1    -1    1    -1    1\n",
            "1    0    1    -1    1    1    0\n",
            "1    1    1    -1    1    0    1\n"
          ]
        }
      ],
      "source": [
        "# Define inputs and weights for ANDNOT function\n",
        "x1 = [0, 0, 1, 1]\n",
        "x2 = [0, 1, 0, 1]\n",
        "W1 = [1, 1, 1, 1]\n",
        "W2 = [-1, -1, -1, -1]  # Weights for NOT operation\n",
        "\n",
        "threshold = 1  # Threshold for McCulloch-Pitts neuron\n",
        "\n",
        "# Apply McCulloch-Pitts neuron model\n",
        "result = []\n",
        "for i in range(len(x1)):\n",
        "    S = x1[i]*W1[i] + x2[i]*W2[i]\n",
        "    if S >= threshold:\n",
        "        result.append(0)  # Output 0 if S >= threshold\n",
        "    else:\n",
        "        result.append(1)  # Output 1 otherwise\n",
        "\n",
        "# Display the results\n",
        "print(\"x1   x2   w1   w2   t    S   Output\")\n",
        "for i in range(len(x1)):\n",
        "    print(f\"{x1[i]}    {x2[i]}    {W1[i]}    {W2[i]}    {threshold}    {x1[i]*W1[i] + x2[i]*W2[i]}    {result[i]}\")\n"
      ]
    }
  ],
  "metadata": {
    "colab": {
      "provenance": []
    },
    "kernelspec": {
      "display_name": "Python 3 (ipykernel)",
      "language": "python",
      "name": "python3"
    },
    "language_info": {
      "codemirror_mode": {
        "name": "ipython",
        "version": 3
      },
      "file_extension": ".py",
      "mimetype": "text/x-python",
      "name": "python",
      "nbconvert_exporter": "python",
      "pygments_lexer": "ipython3",
      "version": "3.12.0"
    }
  },
  "nbformat": 4,
  "nbformat_minor": 5
}
